{
  "nbformat": 4,
  "nbformat_minor": 0,
  "metadata": {
    "colab": {
      "name": "pdi-lesson3-labeling.ipynb",
      "provenance": [],
      "authorship_tag": "ABX9TyM80iLZNsBUz15heoWVw/SZ",
      "include_colab_link": true
    },
    "kernelspec": {
      "name": "python3",
      "display_name": "Python 3"
    },
    "language_info": {
      "name": "python"
    }
  },
  "cells": [
    {
      "cell_type": "markdown",
      "metadata": {
        "id": "view-in-github",
        "colab_type": "text"
      },
      "source": [
        "<a href=\"https://colab.research.google.com/github/vilsonrodrigues/DigitalImageProcessing/blob/main/DigitalImageProcessing/DCA0445/lesson3-labeling/pdi_lesson3_labeling.ipynb\" target=\"_parent\"><img src=\"https://colab.research.google.com/assets/colab-badge.svg\" alt=\"Open In Colab\"/></a>"
      ]
    },
    {
      "cell_type": "markdown",
      "source": [
        "Question: \"Observando-se o programa labeling.cpp como exemplo, é possível verificar que caso existam mais de 255 objetos na cena, o processo de rotulação poderá ficar comprometido. Identifique a situação em que isso ocorre e proponha uma solução para este problema.\""
      ],
      "metadata": {
        "id": "p_1UiC4YRtaW"
      }
    },
    {
      "cell_type": "markdown",
      "source": [
        "Answer: Como o algoritmo prevê no máximo 255 tons de cinza, a solução seria usar uma imagem em um formato diferente para processar mais que 255 regiões."
      ],
      "metadata": {
        "id": "0hDIsGPFRv9v"
      }
    },
    {
      "cell_type": "markdown",
      "source": [
        "Question 2: \"Aprimore o algoritmo de contagem apresentado para identificar regiões com ou sem buracos internos que existam na cena. Assuma que objetos com mais de um buraco podem existir. Inclua suporte no seu algoritmo para não contar bolhas que tocam as bordas da imagem. Não se pode presumir, a priori, que elas tenham buracos ou não.\""
      ],
      "metadata": {
        "id": "Mq3koV5XywH7"
      }
    },
    {
      "cell_type": "markdown",
      "source": [
        "Lesson 3: Count regions with and without rules"
      ],
      "metadata": {
        "id": "XUp59U48zcy0"
      }
    },
    {
      "cell_type": "code",
      "execution_count": null,
      "metadata": {
        "id": "r1KJj9QJRizn"
      },
      "outputs": [],
      "source": [
        "import cv2\n",
        "import numpy as np\n",
        "import matplotlib.pyplot as plt"
      ]
    },
    {
      "cell_type": "markdown",
      "source": [
        "Read image"
      ],
      "metadata": {
        "id": "uMYCviQO0gdf"
      }
    },
    {
      "cell_type": "code",
      "source": [
        "img = cv2.imread(\"bolhas.png\", cv2.IMREAD_GRAYSCALE)"
      ],
      "metadata": {
        "id": "N1JQpCMY0hXs"
      },
      "execution_count": null,
      "outputs": []
    },
    {
      "cell_type": "markdown",
      "source": [
        "Dimensions"
      ],
      "metadata": {
        "id": "oJszihj20qJ1"
      }
    },
    {
      "cell_type": "code",
      "source": [
        "img.shape"
      ],
      "metadata": {
        "colab": {
          "base_uri": "https://localhost:8080/"
        },
        "id": "wbj83wUF0m99",
        "outputId": "2c2a4a34-d853-4e57-8802-50ed2880cf3d"
      },
      "execution_count": null,
      "outputs": [
        {
          "output_type": "execute_result",
          "data": {
            "text/plain": [
              "(256, 256)"
            ]
          },
          "metadata": {},
          "execution_count": 24
        }
      ]
    },
    {
      "cell_type": "code",
      "source": [
        "plt.imshow(img,cmap = 'gray')"
      ],
      "metadata": {
        "colab": {
          "base_uri": "https://localhost:8080/",
          "height": 287
        },
        "id": "xDZuhOJ06IjG",
        "outputId": "29f26e30-b1a3-4ac5-da18-f885f5d9ccc0"
      },
      "execution_count": null,
      "outputs": [
        {
          "output_type": "execute_result",
          "data": {
            "text/plain": [
              "<matplotlib.image.AxesImage at 0x7f7a1bd71650>"
            ]
          },
          "metadata": {},
          "execution_count": 114
        },
        {
          "output_type": "display_data",
          "data": {
            "text/plain": [
              "<Figure size 432x288 with 1 Axes>"
            ],
            "image/png": "[encoded data removed]"
          },
          "metadata": {
            "needs_background": "light"
          }
        }
      ]
    },
    {
      "cell_type": "markdown",
      "source": [
        "Remove regions in edges"
      ],
      "metadata": {
        "id": "29F0G-Hc1JU9"
      }
    },
    {
      "cell_type": "code",
      "source": [
        "def noBubblesEdge(img):\n",
        "\n",
        "  shape = np.shape(img)\n",
        "\n",
        "  copy_img = img.copy()\n",
        "\n",
        "  for i in list([0, shape[0]-1]):\n",
        "    for j in range(0, shape[1]):\n",
        "      if(copy_img[i][j] == 255):\n",
        "        cv2.floodFill(image=copy_img, seedPoint=(j, i), newVal=0, mask=None)\n",
        "\n",
        "  for i in range(0, shape[0]):\n",
        "    for j in list([0, shape[1]-1]):\n",
        "      if(copy_img[i][j] == 255):\n",
        "        cv2.floodFill(image=copy_img, seedPoint=(j, i), newVal=0, mask=None)\n",
        "\n",
        "  return copy_img"
      ],
      "metadata": {
        "id": "ITaBnoJdS309"
      },
      "execution_count": null,
      "outputs": []
    },
    {
      "cell_type": "code",
      "source": [
        "img_noEdge = noBubblesEdge(img)\n",
        "\n",
        "# ploting image #\n",
        "f, ax = plt.subplots(1, 2, figsize=(15, 8))\n",
        "\n",
        "# Plotando a imagem #\n",
        "ax[0].imshow(img, cmap = 'gray')\n",
        "ax[1].imshow(img_noEdge, cmap = 'gray')\n",
        "\n",
        "plt.show()"
      ],
      "metadata": {
        "colab": {
          "base_uri": "https://localhost:8080/",
          "height": 432
        },
        "id": "Srd6DWjzUcFm",
        "outputId": "8953ba4a-16d1-4373-ad5c-0edd07c7b42c"
      },
      "execution_count": null,
      "outputs": [
        {
          "output_type": "display_data",
          "data": {
            "text/plain": [
              "<Figure size 1080x576 with 2 Axes>"
            ],
            "image/png": "[encoded data removed]"
          },
          "metadata": {
            "needs_background": "light"
          }
        }
      ]
    },
    {
      "cell_type": "markdown",
      "source": [
        "First, count num bubbles. \n",
        "\n",
        "For this problem, we apply 255 in background, after, we can make a count num of holes.\n",
        "\n",
        "To obtain num bubbles without holes, subtract num_bubbles - num_holes\n",
        "\n"
      ],
      "metadata": {
        "id": "c55SmW70X0_4"
      }
    },
    {
      "cell_type": "code",
      "source": [
        "def countHolesBubbles(img):\n",
        "    \n",
        "    b_objects = 0\n",
        "    b_holes = 0\n",
        "\n",
        "    shape = np.shape(img)\n",
        "\n",
        "    copy_img = img.copy()\n",
        "\n",
        "    for i in range(0, shape[0]):\n",
        "        for j in range(0, shape[1]):\n",
        "            if copy_img[i][j] == 255:\n",
        "                b_objects += 1                \n",
        "                cv2.floodFill(image=copy_img, seedPoint=(j, i), newVal=(b_objects), mask=None)\n",
        "    \n",
        "    # Filling the background\n",
        "    copy_img = img.copy()\n",
        "    cv2.floodFill(image=copy_img, seedPoint=(0, 0), newVal=(255), mask=None)\n",
        "\n",
        "    for i in range(0, shape[0]):\n",
        "        for j in range(0, shape[1]):\n",
        "            if(copy_img[i][j] == 0):\n",
        "                b_holes += 1       \n",
        "                cv2.floodFill(image=copy_img, seedPoint=(j, i), newVal=(255), mask=None)\n",
        "\n",
        "    print(\"Num bubbles: {}\".format(b_objects))\n",
        "    print(\"Num bubbles with holes: {}\".format(b_holes))\n",
        "    print(\"Num bubbles without holes: {}\".format(b_objects - b_holes))"
      ],
      "metadata": {
        "id": "AlTrIRp_VMHq"
      },
      "execution_count": null,
      "outputs": []
    },
    {
      "cell_type": "code",
      "source": [
        "countHolesBubbles(img_noEdge)"
      ],
      "metadata": {
        "id": "apkErX5CY-ns",
        "outputId": "041c92fa-dc23-41dc-d00d-0b5c9c2ded70",
        "colab": {
          "base_uri": "https://localhost:8080/"
        }
      },
      "execution_count": null,
      "outputs": [
        {
          "output_type": "stream",
          "name": "stdout",
          "text": [
            "Num bubbles: 21\n",
            "Num bubbles with holes: 7\n",
            "Num bubbles without holes: 14\n"
          ]
        }
      ]
    }
  ]
}